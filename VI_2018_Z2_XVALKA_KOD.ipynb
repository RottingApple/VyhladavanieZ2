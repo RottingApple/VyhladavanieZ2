{
 "cells": [
  {
   "cell_type": "code",
   "execution_count": 4,
   "metadata": {
    "collapsed": false,
    "scrolled": false
   },
   "outputs": [
    {
     "name": "stdout",
     "output_type": "stream",
     "text": [
      "Once deleted, variables cannot be recovered. Proceed (y/[n])? y\n"
     ]
    }
   ],
   "source": [
    "%reset"
   ]
  },
  {
   "cell_type": "markdown",
   "metadata": {},
   "source": [
    "<h1> Imports + Reading csv files + basic info</h1>"
   ]
  },
  {
   "cell_type": "code",
   "execution_count": 1,
   "metadata": {
    "collapsed": false
   },
   "outputs": [
    {
     "name": "stdout",
     "output_type": "stream",
     "text": [
      "Popular items are: [11219, 22031, 16959, 3526, 24851, 3617, 20591, 24848, 24846, 20585]\n"
     ]
    },
    {
     "data": {
      "text/html": [
       "<div>\n",
       "<table border=\"1\" class=\"dataframe\">\n",
       "  <thead>\n",
       "    <tr style=\"text-align: right;\">\n",
       "      <th></th>\n",
       "      <th>customer_id</th>\n",
       "      <th>product_id</th>\n",
       "      <th>type</th>\n",
       "      <th>timestamp</th>\n",
       "    </tr>\n",
       "  </thead>\n",
       "  <tbody>\n",
       "    <tr>\n",
       "      <th>0</th>\n",
       "      <td>1</td>\n",
       "      <td>19685</td>\n",
       "      <td>0.001</td>\n",
       "      <td>1527812004</td>\n",
       "    </tr>\n",
       "    <tr>\n",
       "      <th>1</th>\n",
       "      <td>1</td>\n",
       "      <td>19685</td>\n",
       "      <td>0.001</td>\n",
       "      <td>1527812041</td>\n",
       "    </tr>\n",
       "    <tr>\n",
       "      <th>2</th>\n",
       "      <td>1</td>\n",
       "      <td>19685</td>\n",
       "      <td>0.010</td>\n",
       "      <td>1527812046</td>\n",
       "    </tr>\n",
       "    <tr>\n",
       "      <th>3</th>\n",
       "      <td>1</td>\n",
       "      <td>19685</td>\n",
       "      <td>0.001</td>\n",
       "      <td>1527812048</td>\n",
       "    </tr>\n",
       "    <tr>\n",
       "      <th>4</th>\n",
       "      <td>1</td>\n",
       "      <td>19685</td>\n",
       "      <td>0.001</td>\n",
       "      <td>1527812050</td>\n",
       "    </tr>\n",
       "  </tbody>\n",
       "</table>\n",
       "</div>"
      ],
      "text/plain": [
       "   customer_id  product_id   type   timestamp\n",
       "0            1       19685  0.001  1527812004\n",
       "1            1       19685  0.001  1527812041\n",
       "2            1       19685  0.010  1527812046\n",
       "3            1       19685  0.001  1527812048\n",
       "4            1       19685  0.001  1527812050"
      ]
     },
     "execution_count": 1,
     "metadata": {},
     "output_type": "execute_result"
    }
   ],
   "source": [
    "import pandas as pd\n",
    "import os\n",
    "import numpy as np\n",
    "from scipy.sparse import csc_matrix\n",
    "from scipy.sparse import csr_matrix\n",
    "from sklearn.metrics.pairwise import cosine_similarity\n",
    "import sklearn.preprocessing as pp\n",
    "\n",
    "def printCustomerActions(customer_id, dataframe):\n",
    "    print(dataframe[dataframe['customer_id'] == customer_id])\n",
    "\n",
    "#vyzaduje maticu row(produkt) a stlpec(user)\n",
    "def cosine_similarities(mat):\n",
    "    col_normed_mat = pp.normalize(mat.tocsc(), axis=0)\n",
    "    return col_normed_mat.T * col_normed_mat\n",
    "\n",
    "def getCustomerItemsDF(customer_id, dataframe):\n",
    "    return dataframe[dataframe['customer_id'] == customer_id]\n",
    "\n",
    "def getCustomerItemsSet(customer_id, dataframe):\n",
    "    return set(dataframe[dataframe['customer_id'] == customer_id][\"product_id\"].unique())\n",
    "\n",
    "def getCustomerItemsList(customer_id, dataframe):\n",
    "    return list(dataframe[dataframe['customer_id'] == customer_id][\"product_id\"].unique())\n",
    "\n",
    "def getSimilarCustomers(similarities, targetCustomer, numOfSimilars):\n",
    "    targetSimilars = similarities[targetCustomer, :].toarray().flatten()\n",
    "    lst = pd.Series(targetSimilars)\n",
    "    i = lst.nlargest(numOfSimilars)\n",
    "    i.index.values.tolist()\n",
    "    return i\n",
    "\n",
    "def recommendItems(similarities, targetCustomer, dataframe, numOfSimilars):\n",
    "    try:\n",
    "        result = getSimilarCustomers(similarities, targetCustomer, numOfSimilars)\n",
    "        items = {}\n",
    "        targetCustomerItems = getCustomerItemsSet(targetCustomer, eventsDF)\n",
    "        similarCustomers = result.keys()\n",
    "        finalItems = []\n",
    "        for similarCustomer in similarCustomers:\n",
    "            customerActions = getCustomerItemsDF(similarCustomer, eventsDF)\n",
    "            groupActions = customerActions.groupby(\"product_id\").sum()[\"type\"];\n",
    "            for item in groupActions.keys():\n",
    "                #print(\"{} : {}\".format(item, groupActions[item]))\n",
    "                #if item not in targetCustomerItems:\n",
    "                if item not in items:\n",
    "                    items[item] = groupActions[item]\n",
    "                else:\n",
    "                    items[item] += groupActions[item]\n",
    "        #print(items)\n",
    "        #print(targetCustomerItems)\n",
    "        for i in range(10):\n",
    "            if len(items.keys()) != 0:\n",
    "                maxKey = max(items, key=items.get)\n",
    "                #print(maxKey)\n",
    "                finalItems.append(maxKey)\n",
    "                items.pop(maxKey)\n",
    "            #printCustomerActions(similarCustomer, eventsDF)\n",
    "        return finalItems\n",
    "    except IndexError:\n",
    "        return list()\n",
    "\n",
    "def recommendItemBased(similarities, targetItem, numOfSimilars):\n",
    "    targetSimilars = similarities[targetItem,:].toarray().flatten()\n",
    "    lst = pd.Series(targetSimilars)\n",
    "    i = lst.nlargest(numOfSimilars + 1)\n",
    "    result = i.index.values.tolist()\n",
    "    result.remove(targetItem)\n",
    "    return result\n",
    "    \n",
    "def splitDataframe(df, train_percent=.8, validate_percent=.2, seed=None):\n",
    "    m = len(df.index)\n",
    "    train_end = int(train_percent * m)\n",
    "    train = df.iloc[:train_end]\n",
    "    test = df.iloc[train_end:]\n",
    "    return train, test\n",
    "\n",
    "def calculatePrediction(recommendeditems, actualItems):\n",
    "    hits = 0\n",
    "    for item in actualItems:\n",
    "        if item in recommendeditems:\n",
    "            hits += 1\n",
    "    return hits\n",
    "\n",
    "def getPopularItems(dataframe, n):\n",
    "    itemInfo = dataframe[['product_id', 'type']].groupby(\"product_id\").agg(\"sum\")\n",
    "    itemInfo = itemInfo.sort_values(by=['type'], ascending=False)\n",
    "    return list(itemInfo.index.values)[:n]\n",
    "\n",
    "def getUsersBestItem(dataframe, targetUser):\n",
    "    productInfo = dataframe[dataframe['customer_id'] == targetUser].groupby(\"product_id\").agg(\"sum\")[\"type\"]\n",
    "    keys = productInfo.keys()\n",
    "    max = 0\n",
    "    maxkey = 0\n",
    "    for key in keys:\n",
    "        if productInfo[key] > max:\n",
    "            max = productInfo[key]\n",
    "            maxkey = key\n",
    "    return key\n",
    "\n",
    "eventFile = \"vi_dataset_events.csv\"\n",
    "catalogFile = \"vi_dataset_catalog.csv\"\n",
    "eventsDF = pd.read_csv(os.path.basename(eventFile))\n",
    "catalogDF = pd.read_csv(os.path.basename(catalogFile))\n",
    "\n",
    "eventsDF['type'] = eventsDF['type'].map({'view_product': 0.001, 'add_to_cart': 0.01, 'purchase_item': 0.1})\n",
    "eventsDF = eventsDF.sort_values(by=['timestamp'])\n",
    "trainDF, testDF = splitDataframe(eventsDF)\n",
    "popularItems = getPopularItems(trainDF, 10)\n",
    "print(\"Popular items are: {}\".format(popularItems))\n",
    "eventsDF.head()"
   ]
  },
  {
   "cell_type": "markdown",
   "metadata": {
    "collapsed": true
   },
   "source": [
    "<h1>Making Pivot Table</h1>"
   ]
  },
  {
   "cell_type": "code",
   "execution_count": 2,
   "metadata": {
    "collapsed": false
   },
   "outputs": [
    {
     "name": "stdout",
     "output_type": "stream",
     "text": [
      "[19685, 21140, 20785, 17621, 22262, 15065, 22614, 17531, 20786, 17551]\n",
      "[19685]\n"
     ]
    }
   ],
   "source": [
    "file = trainDF\n",
    "user_u = list(sorted(file.customer_id.unique()))\n",
    "item_u = list(sorted(file.product_id.unique()))\n",
    "\n",
    "col = file['customer_id'].tolist()\n",
    "row = file['product_id'].tolist()\n",
    "data = file['type'].tolist()\n",
    "sparse_matrix_user = csc_matrix((data, (row, col)))\n",
    "sparse_matrix_item = csc_matrix((data, (col, row)))\n",
    "\n",
    "similarities_user = cosine_similarities(sparse_matrix_user)\n",
    "similarities_item = cosine_similarities(sparse_matrix_item)\n",
    "items = recommendItems(similarities_user, 1, trainDF, 50)\n",
    "print(items)\n",
    "print(getCustomerItemsList(1, trainDF))"
   ]
  },
  {
   "cell_type": "code",
   "execution_count": 4,
   "metadata": {
    "collapsed": false,
    "scrolled": true
   },
   "outputs": [
    {
     "name": "stdout",
     "output_type": "stream",
     "text": [
      "Total Users: 23001\n",
      "Item Based and User Based Recommender had 2516 hits and 20485 misses and overall ratio 0.10938654841093866\n",
      "User Based only Recommender had 5041 hits and 17960 misses and overall ratio 0.21916438415721057\n"
     ]
    },
    {
     "ename": "UnboundLocalError",
     "evalue": "local variable 'key' referenced before assignment",
     "output_type": "error",
     "traceback": [
      "\u001b[0;31m---------------------------------------------------------------------------\u001b[0m",
      "\u001b[0;31mUnboundLocalError\u001b[0m                         Traceback (most recent call last)",
      "\u001b[0;32m<ipython-input-4-ff9bb83bd3dd>\u001b[0m in \u001b[0;36m<module>\u001b[0;34m()\u001b[0m\n\u001b[1;32m     52\u001b[0m         \u001b[0mcorrectPredictions\u001b[0m \u001b[1;33m=\u001b[0m \u001b[1;34m\"No Data in Future\"\u001b[0m\u001b[1;33m\u001b[0m\u001b[0m\n\u001b[1;32m     53\u001b[0m     \u001b[1;32melse\u001b[0m\u001b[1;33m:\u001b[0m\u001b[1;33m\u001b[0m\u001b[0m\n\u001b[0;32m---> 54\u001b[0;31m         \u001b[0mtargetItem\u001b[0m \u001b[1;33m=\u001b[0m \u001b[0mgetUsersBestItem\u001b[0m\u001b[1;33m(\u001b[0m\u001b[0mtrainDF\u001b[0m\u001b[1;33m,\u001b[0m \u001b[0muser\u001b[0m\u001b[1;33m)\u001b[0m\u001b[1;33m\u001b[0m\u001b[0m\n\u001b[0m\u001b[1;32m     55\u001b[0m         \u001b[0mrecommendeditems\u001b[0m \u001b[1;33m=\u001b[0m \u001b[0mrecommendItemBased\u001b[0m\u001b[1;33m(\u001b[0m\u001b[0msimilarities_item\u001b[0m\u001b[1;33m,\u001b[0m \u001b[0mtargetItem\u001b[0m\u001b[1;33m,\u001b[0m \u001b[1;36m10\u001b[0m\u001b[1;33m)\u001b[0m\u001b[1;33m\u001b[0m\u001b[0m\n\u001b[1;32m     56\u001b[0m         \u001b[0mcorrectPredictions\u001b[0m \u001b[1;33m=\u001b[0m \u001b[0mcalculatePrediction\u001b[0m\u001b[1;33m(\u001b[0m\u001b[0mrecommendeditems\u001b[0m\u001b[1;33m,\u001b[0m \u001b[0mactualItems\u001b[0m\u001b[1;33m)\u001b[0m\u001b[1;33m\u001b[0m\u001b[0m\n",
      "\u001b[0;32m<ipython-input-1-33289caadd86>\u001b[0m in \u001b[0;36mgetUsersBestItem\u001b[0;34m(dataframe, targetUser)\u001b[0m\n\u001b[1;32m     97\u001b[0m             \u001b[0mmax\u001b[0m \u001b[1;33m=\u001b[0m \u001b[0mproductInfo\u001b[0m\u001b[1;33m[\u001b[0m\u001b[0mkey\u001b[0m\u001b[1;33m]\u001b[0m\u001b[1;33m\u001b[0m\u001b[0m\n\u001b[1;32m     98\u001b[0m             \u001b[0mmaxkey\u001b[0m \u001b[1;33m=\u001b[0m \u001b[0mkey\u001b[0m\u001b[1;33m\u001b[0m\u001b[0m\n\u001b[0;32m---> 99\u001b[0;31m     \u001b[1;32mreturn\u001b[0m \u001b[0mkey\u001b[0m\u001b[1;33m\u001b[0m\u001b[0m\n\u001b[0m\u001b[1;32m    100\u001b[0m \u001b[1;33m\u001b[0m\u001b[0m\n\u001b[1;32m    101\u001b[0m \u001b[1;31m#print(os.getcwd())\u001b[0m\u001b[1;33m\u001b[0m\u001b[1;33m\u001b[0m\u001b[0m\n",
      "\u001b[0;31mUnboundLocalError\u001b[0m: local variable 'key' referenced before assignment"
     ]
    }
   ],
   "source": [
    "testUsers = testDF[\"customer_id\"].unique()\n",
    "hits = 0\n",
    "misses = 0\n",
    "print(\"Total Users: {}\".format(len(testUsers)))\n",
    "for i in range(len(testUsers)):\n",
    "    user = testUsers[i]\n",
    "    userItems = getCustomerItemsList(user, trainDF)\n",
    "    if len(userItems) > 10:\n",
    "        recommendeditems = recommendItems(similarities_user, user, trainDF, 50)\n",
    "    elif len(userItems) > 0:\n",
    "        targetItem = getUsersBestItem(trainDF, user)\n",
    "        recommendeditems = recommendItemBased(similarities_item, targetItem, 10)\n",
    "    else:\n",
    "        recommendeditems = getPopularItems(trainDF, 10)\n",
    "    actualItems = getCustomerItemsList(user, testDF)\n",
    "    if len(actualItems) == 0:\n",
    "        correctPredictions = \"No Data in Future\"\n",
    "    else:\n",
    "        correctPredictions = calculatePrediction(recommendeditems, actualItems)\n",
    "    if correctPredictions > 0:\n",
    "        hits += 1\n",
    "    else:\n",
    "        misses += 1\n",
    "        \n",
    "print(\"Item Based and User Based Recommender had {} hits and {} misses and overall ratio {}\".format(hits,misses, (hits/len(testUsers))))\n",
    "\n",
    "hits = 0\n",
    "misses = 0\n",
    "\n",
    "for i in range(len(testUsers)):\n",
    "    user = testUsers[i]\n",
    "    recommendeditems = recommendItems(similarities_user, user, trainDF, 50)\n",
    "    actualItems = getCustomerItemsList(user, testDF)\n",
    "    if len(actualItems) == 0 and len(getCustomerItemsList(user, trainDF)):\n",
    "        correctPredictions = \"No Data in Future and Past\"\n",
    "    else:\n",
    "        correctPredictions = calculatePrediction(recommendeditems, actualItems)\n",
    "    if correctPredictions > 0:\n",
    "        hits += 1\n",
    "    else:\n",
    "        misses += 1\n",
    "print(\"User Based only Recommender had {} hits and {} misses and overall ratio {}\".format(hits,misses, (hits/len(testUsers))))\n"
   ]
  },
  {
   "cell_type": "code",
   "execution_count": 5,
   "metadata": {
    "collapsed": false
   },
   "outputs": [
    {
     "name": "stdout",
     "output_type": "stream",
     "text": [
      "Popular only Recommender had 1608 hits and 21393 misses and overall ratio 0.06991000391287336\n"
     ]
    }
   ],
   "source": [
    "hits = 0\n",
    "misses = 0\n",
    "\n",
    "for i in range(len(testUsers)):\n",
    "    user = testUsers[i]\n",
    "    recommendeditems = getPopularItems(trainDF, 10)\n",
    "    actualItems = getCustomerItemsList(user, testDF)\n",
    "    if len(actualItems) == 0:\n",
    "        correctPredictions = \"No Data in Future\"\n",
    "    else:\n",
    "        correctPredictions = calculatePrediction(recommendeditems, actualItems)\n",
    "    if correctPredictions > 0:\n",
    "        hits += 1\n",
    "    else:\n",
    "        misses += 1\n",
    "print(\"Popular only Recommender had {} hits and {} misses and overall ratio {}\".format(hits,misses, (hits/len(testUsers))))"
   ]
  },
  {
   "cell_type": "code",
   "execution_count": 138,
   "metadata": {
    "collapsed": false
   },
   "outputs": [
    {
     "name": "stdout",
     "output_type": "stream",
     "text": [
      "[44, 44, 70, 160, 217, 260, 322, 361, 459, 487, 534, 557, 599, 644, 700, 719, 759, 809, 853, 946, 964, 1016, 1052, 1090, 1102, 1127, 1172, 1293, 1376, 1391, 1449, 1553, 1592, 1796, 1811, 1965, 2050, 2240, 2395, 2541, 2727, 2807, 2817, 3424, 3526, 4028, 4037, 4157, 4206, 5024, 5380, 5475, 9652, 9740, 9756, 9871, 10596, 10647, 10673, 10717, 10825, 10871, 11004, 15114, 15117, 15218, 15363, 16467, 16470, 16820, 17640, 17739, 18038, 18260, 21223, 21290, 21452, 21582, 21696, 21868, 22084, 23084, 23648, 24492, 24977, 25603, 25820, 29024, 29991, 30715, 30940, 30965, 33058, 33369, 33565, 36255, 37716, 37991, 38204, 38492, 38660, 39156, 40431, 42108, 42704, 43035, 43270, 44790, 44922, 45462, 45832, 46083, 46290, 49910, 50245, 50248, 50620, 51963, 57064, 57963, 58699, 58869, 59980, 60451, 61272, 63580, 64319, 65588, 68525, 69157, 71192, 71304, 71796, 74047, 74315, 76271, 77181, 79058, 84320]\n"
     ]
    }
   ],
   "source": [
    "#Kaggle\n",
    "challenge_users = []\n",
    "lst = []\n",
    "with open(\"vi_challenge_uID.csv\", \"r\") as challenge_file:\n",
    "    for line in challenge_file:\n",
    "        challenge_users.append(int(line.strip()))\n",
    "print(challenge_users)\n",
    "\n",
    "for user in challenge_users:\n",
    "    userItems = getCustomerItemsList(user, eventsDF)\n",
    "    if len(userItems) > 10:\n",
    "        recommendeditems = recommendItems(similarities_user, user, eventsDF, 50)\n",
    "    elif len(userItems) > 0:\n",
    "        targetItem = getUsersBestItem(eventsDF, user)\n",
    "        recommendeditems = recommendItemBased(similarities_item, targetItem, 10)\n",
    "    else:\n",
    "        recommendeditems = getPopularItems(trainDF, 10)\n",
    "    for item in recommendeditems:\n",
    "        lst.append([user, item])\n",
    "df_sumbission = pd.DataFrame(lst, columns=['customer_id', 'product_id'])\n",
    "df_sumbission.to_csv('xvalka_vi_challenge.csv', sep=',', encoding='utf-8', index=False)\n"
   ]
  }
 ],
 "metadata": {
  "anaconda-cloud": {},
  "kernelspec": {
   "display_name": "Python [conda env:Anaconda3]",
   "language": "python",
   "name": "conda-env-Anaconda3-py"
  },
  "language_info": {
   "codemirror_mode": {
    "name": "ipython",
    "version": 3
   },
   "file_extension": ".py",
   "mimetype": "text/x-python",
   "name": "python",
   "nbconvert_exporter": "python",
   "pygments_lexer": "ipython3",
   "version": "3.5.2"
  }
 },
 "nbformat": 4,
 "nbformat_minor": 1
}
